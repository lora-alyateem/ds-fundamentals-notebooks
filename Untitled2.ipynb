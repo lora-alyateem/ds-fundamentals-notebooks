{
  "nbformat": 4,
  "nbformat_minor": 0,
  "metadata": {
    "colab": {
      "provenance": [],
      "authorship_tag": "ABX9TyONrc+ja3IoF8EKrTp/X4gY",
      "include_colab_link": true
    },
    "kernelspec": {
      "name": "python3",
      "display_name": "Python 3"
    },
    "language_info": {
      "name": "python"
    }
  },
  "cells": [
    {
      "cell_type": "markdown",
      "metadata": {
        "id": "view-in-github",
        "colab_type": "text"
      },
      "source": [
        "<a href=\"https://colab.research.google.com/github/lora-alyateem/ds-fundamentals-notebooks/blob/main/Untitled2.ipynb\" target=\"_parent\"><img src=\"https://colab.research.google.com/assets/colab-badge.svg\" alt=\"Open In Colab\"/></a>"
      ]
    },
    {
      "cell_type": "markdown",
      "source": [
        "# Project Title: Prediction Of Prouduct Sales"
      ],
      "metadata": {
        "id": "RyHLxlx0QBxE"
      }
    },
    {
      "cell_type": "markdown",
      "source": [
        "- Author : Lora Alyateem"
      ],
      "metadata": {
        "id": "TB2FY__NUKES"
      }
    },
    {
      "cell_type": "markdown",
      "source": [
        "## \" project overview \""
      ],
      "metadata": {
        "id": "mFiBMlswSFvT"
      }
    },
    {
      "cell_type": "markdown",
      "source": [],
      "metadata": {
        "id": "Q2h-LyFCU0lq"
      }
    },
    {
      "cell_type": "markdown",
      "source": [
        "## \" Load and Inspect Data \""
      ],
      "metadata": {
        "id": "_HL5g-jZSF97"
      }
    },
    {
      "cell_type": "code",
      "source": [],
      "metadata": {
        "id": "Q7c05QhfUs18"
      },
      "execution_count": 19,
      "outputs": []
    },
    {
      "cell_type": "markdown",
      "source": [
        "## \" Clean Data \""
      ],
      "metadata": {
        "id": "uyf-xJz9StH-"
      }
    },
    {
      "cell_type": "code",
      "source": [],
      "metadata": {
        "id": "qYSoKSW-UtZK"
      },
      "execution_count": 19,
      "outputs": []
    },
    {
      "cell_type": "markdown",
      "source": [
        "##\" Exploratory Data Analysis \""
      ],
      "metadata": {
        "id": "R0Hf_g-JStKw"
      }
    },
    {
      "cell_type": "code",
      "source": [],
      "metadata": {
        "id": "u-87MZG9Ut4k"
      },
      "execution_count": 19,
      "outputs": []
    },
    {
      "cell_type": "markdown",
      "source": [
        "## \" Featur Inspectaion \""
      ],
      "metadata": {
        "id": "NRHEyT0FStgA"
      }
    },
    {
      "cell_type": "code",
      "source": [],
      "metadata": {
        "id": "zhyw76VgUurL"
      },
      "execution_count": 19,
      "outputs": []
    }
  ]
}